{
    "cells": [
        {
            "cell_type": "markdown",
            "metadata": {
                "collapsed": true
            },
            "source": "Data Requirement and Methodology\n\nA.This project will be using the following data sources:\n\n1.Data from the US Census bureau and migration policy:\n\nReports from the US Census bureau and migration policy Institute will be used to identify the area with the largest Ethiopian community in New York City. The data can be found in the following links: https://www.migrationpolicy.org/article/sub-saharan-african-immigrants-united-states-2018#Distribution\nhttps://www.census.gov/content/dam/Census/library/publications/2017/acs/acs-34.pdf\n\n2.Data from New York University Spatial Data Repository:\n\nData from NYU will be used to explore the boroughs and neighborhoods of New York City. The data can be found in the following link: https://geo.nyu.edu/catalog/nyu_2451_34572\n\n3.Using the Foursquare API\n\nThe explore function will be used to get the most common venue categories in each neighborhood. \n\nB. Methodology\n\nBelow are the steps that needs to be followed to accomplish the goal of this project:\n1. Identifying the borough with the highest Ethiopian Community by analyzing data obtained from the US Census bureau and migration policy Institute. \n2. Identifying the neighborhoods with the highest Ethiopian Community by analyzing data obtained from the US Census bureau and migration policy Institute. \n3. Identifying all restaurants within a mile of the neighborhood with the highest Ethiopian community by using data from New York University along with the Foursqaure API\u2019s explore function to get the most common venue categories in each neighborhood, and then use this feature to group the neighborhoods into clusters. In this step we will filter out restaurants within a walking distance of the neighborhood where a large number of Ethiopians reside.  \n4. Verifying If any Ethiopian restaurant/store is present with in the identified restaurants lists in the previous step. \n5. If no Ethiopian restaurant is present in the area, we will proceed with the decision of opening the restuarant/store.    \n\n\n"
        },
        {
            "cell_type": "code",
            "execution_count": null,
            "metadata": {},
            "outputs": [],
            "source": ""
        }
    ],
    "metadata": {
        "kernelspec": {
            "display_name": "Python 3.6",
            "language": "python",
            "name": "python3"
        },
        "language_info": {
            "codemirror_mode": {
                "name": "ipython",
                "version": 3
            },
            "file_extension": ".py",
            "mimetype": "text/x-python",
            "name": "python",
            "nbconvert_exporter": "python",
            "pygments_lexer": "ipython3",
            "version": "3.6.9"
        }
    },
    "nbformat": 4,
    "nbformat_minor": 1
}